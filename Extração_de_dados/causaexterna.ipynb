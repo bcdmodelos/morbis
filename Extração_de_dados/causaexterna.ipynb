{
 "cells": [
  {
   "cell_type": "code",
   "execution_count": 1,
   "id": "748d8142",
   "metadata": {},
   "outputs": [],
   "source": [
    "import pandas as pd\n",
    "import os"
   ]
  },
  {
   "cell_type": "code",
   "execution_count": 2,
   "id": "51305b7e",
   "metadata": {},
   "outputs": [],
   "source": [
    "ano = ['1996', '1997', '1998', '1999', '2001', '2002', '2003', '2004', '2005',\n",
    "       '2006', '2007', '2008', '2009', '2010', '2011', '2012', '2013', '2014',\n",
    "       '2015', '2016', '2017', '2018', '2019', '2020', '2022', '2022', '2023']\n",
    "\n",
    "estado = ['DOAC', 'DOAL', 'DOAM', 'DOAP', 'DOBA', 'DOCE', 'DODF', 'DOES', 'DOGO',\n",
    "          'DOMA', 'DOMG', 'DOMS', 'DOMT', 'DOPA', 'DOPB', 'DOPE', 'DOPI', 'DOPR',\n",
    "          'DORJ', 'DORN', 'DORO', 'DORR', 'DORS', 'DOSC', 'DOSE', 'DOSP', 'DOTO']"
   ]
  },
  {
   "cell_type": "code",
   "execution_count": null,
   "id": "88a10bc0",
   "metadata": {},
   "outputs": [],
   "source": [
    "caminho_pasta = './data'\n",
    "caminho = os.path.join(caminho_pasta, estado[0]).replace(\"\\\\\", \"/\")"
   ]
  },
  {
   "cell_type": "code",
   "execution_count": null,
   "id": "53dafc97",
   "metadata": {},
   "outputs": [],
   "source": [
    "# Colunas a serem extraídas\n",
    "colunas_desejadas = ['CIRCOBITO', 'ACIDTRAB', 'FONTE']"
   ]
  },
  {
   "cell_type": "code",
   "execution_count": 5,
   "id": "c37e6cf8",
   "metadata": {},
   "outputs": [],
   "source": [
    "# Lista para armazenar os DataFrames\n",
    "lista_df = []\n",
    "\n",
    "# Contador global de ID\n",
    "id_atual = 1"
   ]
  },
  {
   "cell_type": "code",
   "execution_count": 6,
   "id": "f63c786e",
   "metadata": {},
   "outputs": [
    {
     "name": "stdout",
     "output_type": "stream",
     "text": [
      "Total de arquivos na pasta: 28\n"
     ]
    }
   ],
   "source": [
    "arquivos = [f for f in os.listdir(caminho) if os.path.isfile(os.path.join(caminho, f))]\n",
    "\n",
    "print(f\"Total de arquivos na pasta: {len(arquivos)}\")"
   ]
  },
  {
   "cell_type": "code",
   "execution_count": null,
   "id": "a3fa39e4",
   "metadata": {},
   "outputs": [
    {
     "name": "stdout",
     "output_type": "stream",
     "text": [
      "Arquivo final gerado com sucesso em: ./data/DOTO/DOTO_96_23.csv\n",
      "Total de linhas no arquivo final: 172733\n"
     ]
    }
   ],
   "source": [
    "# Loop por cada ano\n",
    "for a in ano:\n",
    "    nome_arquivo = f\"{estado[0]}{a}.csv\"\n",
    "    caminho_csv = os.path.join(caminho, nome_arquivo).replace(\"\\\\\", \"/\")\n",
    "    \n",
    "    if os.path.exists(caminho_csv):\n",
    "        try:\n",
    "            df = pd.read_csv(caminho_csv, low_memory=False)\n",
    "\n",
    "            # Garante que as colunas existem no arquivo\n",
    "            if all(col in df.columns for col in colunas_desejadas):\n",
    "                df_filtrado = df[colunas_desejadas].reset_index(drop=True)\n",
    "\n",
    "                # Cria id único contínuo\n",
    "                df_filtrado['id_ce'] = range(id_atual, id_atual + len(df_filtrado))\n",
    "                id_atual += len(df_filtrado)\n",
    "\n",
    "                # Reorganiza colunas\n",
    "                df_filtrado = df_filtrado[['id_ce'] + colunas_desejadas]\n",
    "\n",
    "                # Armazena no acumulador\n",
    "                lista_df.append(df_filtrado)\n",
    "            else:\n",
    "                print(f\"Aviso: Arquivo {nome_arquivo} não possui todas as colunas desejadas.\")\n",
    "        except Exception as e:\n",
    "            print(f\"Erro ao processar o arquivo {nome_arquivo}: {e}\")\n",
    "    else:\n",
    "        print(f\"Aviso: Arquivo {nome_arquivo} não encontrado.\")\n",
    "\n",
    "# Concatena todos os DataFrames\n",
    "df_final = pd.concat(lista_df, ignore_index=True)\n",
    "\n",
    "# Exporta para um único CSV\n",
    "saida_csv = f'{caminho}/DOAC_96_23_causaobito.csv'\n",
    "df_final.to_csv(saida_csv, index=False)\n",
    "\n",
    "print(f\"Arquivo final gerado com sucesso em: {saida_csv}\")\n",
    "print(f\"Total de linhas no arquivo final: {len(df_final)}\")"
   ]
  }
 ],
 "metadata": {
  "kernelspec": {
   "display_name": ".venv",
   "language": "python",
   "name": "python3"
  },
  "language_info": {
   "codemirror_mode": {
    "name": "ipython",
    "version": 3
   },
   "file_extension": ".py",
   "mimetype": "text/x-python",
   "name": "python",
   "nbconvert_exporter": "python",
   "pygments_lexer": "ipython3",
   "version": "3.13.2"
  }
 },
 "nbformat": 4,
 "nbformat_minor": 5
}
