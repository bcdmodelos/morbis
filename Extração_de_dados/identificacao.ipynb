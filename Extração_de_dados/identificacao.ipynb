{
 "cells": [
  {
   "cell_type": "code",
   "execution_count": 1,
   "id": "748d8142",
   "metadata": {},
   "outputs": [],
   "source": [
    "import pandas as pd\n",
    "import os"
   ]
  },
  {
   "cell_type": "code",
   "execution_count": 2,
   "id": "51305b7e",
   "metadata": {},
   "outputs": [],
   "source": [
    "anos = ['1996', '1997', '1998', '1999', '2001', '2002', '2003', '2004', '2005',\n",
    "       '2006', '2007', '2008', '2009', '2010', '2011', '2012', '2013', '2014',\n",
    "       '2015', '2016', '2017', '2018', '2019', '2020', '2022', '2022', '2023']\n",
    "\n",
    "estados = ['DOAC', 'DOAL', 'DOAM', 'DOAP', 'DOBA', 'DOCE', 'DODF', 'DOES', 'DOGO',\n",
    "          'DOMA', 'DOMG', 'DOMS', 'DOMT', 'DOPA', 'DOPB', 'DOPE', 'DOPI', 'DOPR',\n",
    "          'DORJ', 'DORN', 'DORO', 'DORR', 'DORS', 'DOSC', 'DOSE', 'DOSP', 'DOTO']"
   ]
  },
  {
   "cell_type": "code",
   "execution_count": 3,
   "id": "88a10bc0",
   "metadata": {},
   "outputs": [],
   "source": [
    "# Caminho base onde estão as pastas dos estados\n",
    "caminho_base = './data'"
   ]
  },
  {
   "cell_type": "code",
   "execution_count": null,
   "id": "53dafc97",
   "metadata": {},
   "outputs": [],
   "source": [
    "# Colunas a serem extraídas\n",
    "colunas_desejadas = ['TIPOBITO', 'HORAOBITO', 'NATURAL', 'CODMUNNATU', 'DTNASC', 'ESTCIV']"
   ]
  },
  {
   "cell_type": "code",
   "execution_count": null,
   "id": "07b7b6d4",
   "metadata": {},
   "outputs": [
    {
     "name": "stdout",
     "output_type": "stream",
     "text": [
      "\n",
      "Processando estado: DOAC\n"
     ]
    },
    {
     "name": "stderr",
     "output_type": "stream",
     "text": [
      "C:\\Users\\bruno\\AppData\\Local\\Temp\\ipykernel_17432\\4094533272.py:38: FutureWarning: The behavior of DataFrame concatenation with empty or all-NA entries is deprecated. In a future version, this will no longer exclude empty or all-NA columns when determining the result dtypes. To retain the old behavior, exclude the relevant entries before the concat operation.\n",
      "  df_final = pd.concat(lista_df, ignore_index=True)\n"
     ]
    },
    {
     "name": "stdout",
     "output_type": "stream",
     "text": [
      "Arquivo final gerado: ./data/DOAC/DOAC_96_23_fedal.csv\n",
      "Total de linhas: 86281\n",
      "\n",
      "Processando estado: DOAL\n"
     ]
    },
    {
     "name": "stderr",
     "output_type": "stream",
     "text": [
      "C:\\Users\\bruno\\AppData\\Local\\Temp\\ipykernel_17432\\4094533272.py:38: FutureWarning: The behavior of DataFrame concatenation with empty or all-NA entries is deprecated. In a future version, this will no longer exclude empty or all-NA columns when determining the result dtypes. To retain the old behavior, exclude the relevant entries before the concat operation.\n",
      "  df_final = pd.concat(lista_df, ignore_index=True)\n"
     ]
    },
    {
     "name": "stdout",
     "output_type": "stream",
     "text": [
      "Arquivo final gerado: ./data/DOAL/DOAL_96_23_fedal.csv\n",
      "Total de linhas: 488325\n",
      "\n",
      "Processando estado: DOAM\n"
     ]
    },
    {
     "name": "stderr",
     "output_type": "stream",
     "text": [
      "C:\\Users\\bruno\\AppData\\Local\\Temp\\ipykernel_17432\\4094533272.py:38: FutureWarning: The behavior of DataFrame concatenation with empty or all-NA entries is deprecated. In a future version, this will no longer exclude empty or all-NA columns when determining the result dtypes. To retain the old behavior, exclude the relevant entries before the concat operation.\n",
      "  df_final = pd.concat(lista_df, ignore_index=True)\n"
     ]
    },
    {
     "name": "stdout",
     "output_type": "stream",
     "text": [
      "Arquivo final gerado: ./data/DOAM/DOAM_96_23_fedal.csv\n",
      "Total de linhas: 383015\n",
      "\n",
      "Processando estado: DOAP\n"
     ]
    },
    {
     "name": "stderr",
     "output_type": "stream",
     "text": [
      "C:\\Users\\bruno\\AppData\\Local\\Temp\\ipykernel_17432\\4094533272.py:38: FutureWarning: The behavior of DataFrame concatenation with empty or all-NA entries is deprecated. In a future version, this will no longer exclude empty or all-NA columns when determining the result dtypes. To retain the old behavior, exclude the relevant entries before the concat operation.\n",
      "  df_final = pd.concat(lista_df, ignore_index=True)\n"
     ]
    },
    {
     "name": "stdout",
     "output_type": "stream",
     "text": [
      "Arquivo final gerado: ./data/DOAP/DOAP_96_23_fedal.csv\n",
      "Total de linhas: 68983\n",
      "\n",
      "Processando estado: DOBA\n"
     ]
    },
    {
     "name": "stderr",
     "output_type": "stream",
     "text": [
      "C:\\Users\\bruno\\AppData\\Local\\Temp\\ipykernel_17432\\4094533272.py:38: FutureWarning: The behavior of DataFrame concatenation with empty or all-NA entries is deprecated. In a future version, this will no longer exclude empty or all-NA columns when determining the result dtypes. To retain the old behavior, exclude the relevant entries before the concat operation.\n",
      "  df_final = pd.concat(lista_df, ignore_index=True)\n"
     ]
    },
    {
     "name": "stdout",
     "output_type": "stream",
     "text": [
      "Arquivo final gerado: ./data/DOBA/DOBA_96_23_fedal.csv\n",
      "Total de linhas: 2094236\n",
      "\n",
      "Processando estado: DOCE\n"
     ]
    },
    {
     "name": "stderr",
     "output_type": "stream",
     "text": [
      "C:\\Users\\bruno\\AppData\\Local\\Temp\\ipykernel_17432\\4094533272.py:38: FutureWarning: The behavior of DataFrame concatenation with empty or all-NA entries is deprecated. In a future version, this will no longer exclude empty or all-NA columns when determining the result dtypes. To retain the old behavior, exclude the relevant entries before the concat operation.\n",
      "  df_final = pd.concat(lista_df, ignore_index=True)\n"
     ]
    },
    {
     "name": "stdout",
     "output_type": "stream",
     "text": [
      "Arquivo final gerado: ./data/DOCE/DOCE_96_23_fedal.csv\n",
      "Total de linhas: 1278384\n",
      "\n",
      "Processando estado: DODF\n"
     ]
    },
    {
     "name": "stderr",
     "output_type": "stream",
     "text": [
      "C:\\Users\\bruno\\AppData\\Local\\Temp\\ipykernel_17432\\4094533272.py:38: FutureWarning: The behavior of DataFrame concatenation with empty or all-NA entries is deprecated. In a future version, this will no longer exclude empty or all-NA columns when determining the result dtypes. To retain the old behavior, exclude the relevant entries before the concat operation.\n",
      "  df_final = pd.concat(lista_df, ignore_index=True)\n"
     ]
    },
    {
     "name": "stdout",
     "output_type": "stream",
     "text": [
      "Arquivo final gerado: ./data/DODF/DODF_96_23_fedal.csv\n",
      "Total de linhas: 297205\n",
      "\n",
      "Processando estado: DOES\n"
     ]
    },
    {
     "name": "stderr",
     "output_type": "stream",
     "text": [
      "C:\\Users\\bruno\\AppData\\Local\\Temp\\ipykernel_17432\\4094533272.py:38: FutureWarning: The behavior of DataFrame concatenation with empty or all-NA entries is deprecated. In a future version, this will no longer exclude empty or all-NA columns when determining the result dtypes. To retain the old behavior, exclude the relevant entries before the concat operation.\n",
      "  df_final = pd.concat(lista_df, ignore_index=True)\n"
     ]
    },
    {
     "name": "stdout",
     "output_type": "stream",
     "text": [
      "Arquivo final gerado: ./data/DOES/DOES_96_23_fedal.csv\n",
      "Total de linhas: 576238\n",
      "\n",
      "Processando estado: DOGO\n"
     ]
    },
    {
     "name": "stderr",
     "output_type": "stream",
     "text": [
      "C:\\Users\\bruno\\AppData\\Local\\Temp\\ipykernel_17432\\4094533272.py:38: FutureWarning: The behavior of DataFrame concatenation with empty or all-NA entries is deprecated. In a future version, this will no longer exclude empty or all-NA columns when determining the result dtypes. To retain the old behavior, exclude the relevant entries before the concat operation.\n",
      "  df_final = pd.concat(lista_df, ignore_index=True)\n"
     ]
    },
    {
     "name": "stdout",
     "output_type": "stream",
     "text": [
      "Arquivo final gerado: ./data/DOGO/DOGO_96_23_fedal.csv\n",
      "Total de linhas: 899917\n",
      "\n",
      "Processando estado: DOMA\n"
     ]
    },
    {
     "name": "stderr",
     "output_type": "stream",
     "text": [
      "C:\\Users\\bruno\\AppData\\Local\\Temp\\ipykernel_17432\\4094533272.py:38: FutureWarning: The behavior of DataFrame concatenation with empty or all-NA entries is deprecated. In a future version, this will no longer exclude empty or all-NA columns when determining the result dtypes. To retain the old behavior, exclude the relevant entries before the concat operation.\n",
      "  df_final = pd.concat(lista_df, ignore_index=True)\n"
     ]
    },
    {
     "name": "stdout",
     "output_type": "stream",
     "text": [
      "Arquivo final gerado: ./data/DOMA/DOMA_96_23_fedal.csv\n",
      "Total de linhas: 745054\n",
      "\n",
      "Processando estado: DOMG\n"
     ]
    },
    {
     "name": "stderr",
     "output_type": "stream",
     "text": [
      "C:\\Users\\bruno\\AppData\\Local\\Temp\\ipykernel_17432\\4094533272.py:38: FutureWarning: The behavior of DataFrame concatenation with empty or all-NA entries is deprecated. In a future version, this will no longer exclude empty or all-NA columns when determining the result dtypes. To retain the old behavior, exclude the relevant entries before the concat operation.\n",
      "  df_final = pd.concat(lista_df, ignore_index=True)\n"
     ]
    },
    {
     "name": "stdout",
     "output_type": "stream",
     "text": [
      "Arquivo final gerado: ./data/DOMG/DOMG_96_23_fedal.csv\n",
      "Total de linhas: 3295874\n",
      "\n",
      "Processando estado: DOMS\n"
     ]
    },
    {
     "name": "stderr",
     "output_type": "stream",
     "text": [
      "C:\\Users\\bruno\\AppData\\Local\\Temp\\ipykernel_17432\\4094533272.py:38: FutureWarning: The behavior of DataFrame concatenation with empty or all-NA entries is deprecated. In a future version, this will no longer exclude empty or all-NA columns when determining the result dtypes. To retain the old behavior, exclude the relevant entries before the concat operation.\n",
      "  df_final = pd.concat(lista_df, ignore_index=True)\n"
     ]
    },
    {
     "name": "stdout",
     "output_type": "stream",
     "text": [
      "Arquivo final gerado: ./data/DOMS/DOMS_96_23_fedal.csv\n",
      "Total de linhas: 391912\n",
      "\n",
      "Processando estado: DOMT\n"
     ]
    },
    {
     "name": "stderr",
     "output_type": "stream",
     "text": [
      "C:\\Users\\bruno\\AppData\\Local\\Temp\\ipykernel_17432\\4094533272.py:38: FutureWarning: The behavior of DataFrame concatenation with empty or all-NA entries is deprecated. In a future version, this will no longer exclude empty or all-NA columns when determining the result dtypes. To retain the old behavior, exclude the relevant entries before the concat operation.\n",
      "  df_final = pd.concat(lista_df, ignore_index=True)\n"
     ]
    },
    {
     "name": "stdout",
     "output_type": "stream",
     "text": [
      "Arquivo final gerado: ./data/DOMT/DOMT_96_23_fedal.csv\n",
      "Total de linhas: 410997\n",
      "\n",
      "Processando estado: DOPA\n"
     ]
    },
    {
     "name": "stderr",
     "output_type": "stream",
     "text": [
      "C:\\Users\\bruno\\AppData\\Local\\Temp\\ipykernel_17432\\4094533272.py:38: FutureWarning: The behavior of DataFrame concatenation with empty or all-NA entries is deprecated. In a future version, this will no longer exclude empty or all-NA columns when determining the result dtypes. To retain the old behavior, exclude the relevant entries before the concat operation.\n",
      "  df_final = pd.concat(lista_df, ignore_index=True)\n"
     ]
    },
    {
     "name": "stdout",
     "output_type": "stream",
     "text": [
      "Arquivo final gerado: ./data/DOPA/DOPA_96_23_fedal.csv\n",
      "Total de linhas: 867337\n",
      "\n",
      "Processando estado: DOPB\n"
     ]
    },
    {
     "name": "stderr",
     "output_type": "stream",
     "text": [
      "C:\\Users\\bruno\\AppData\\Local\\Temp\\ipykernel_17432\\4094533272.py:38: FutureWarning: The behavior of DataFrame concatenation with empty or all-NA entries is deprecated. In a future version, this will no longer exclude empty or all-NA columns when determining the result dtypes. To retain the old behavior, exclude the relevant entries before the concat operation.\n",
      "  df_final = pd.concat(lista_df, ignore_index=True)\n"
     ]
    },
    {
     "name": "stdout",
     "output_type": "stream",
     "text": [
      "Arquivo final gerado: ./data/DOPB/DOPB_96_23_fedal.csv\n",
      "Total de linhas: 640786\n",
      "\n",
      "Processando estado: DOPE\n"
     ]
    },
    {
     "name": "stderr",
     "output_type": "stream",
     "text": [
      "C:\\Users\\bruno\\AppData\\Local\\Temp\\ipykernel_17432\\4094533272.py:38: FutureWarning: The behavior of DataFrame concatenation with empty or all-NA entries is deprecated. In a future version, this will no longer exclude empty or all-NA columns when determining the result dtypes. To retain the old behavior, exclude the relevant entries before the concat operation.\n",
      "  df_final = pd.concat(lista_df, ignore_index=True)\n"
     ]
    },
    {
     "name": "stdout",
     "output_type": "stream",
     "text": [
      "Arquivo final gerado: ./data/DOPE/DOPE_96_23_fedal.csv\n",
      "Total de linhas: 1572695\n",
      "\n",
      "Processando estado: DOPI\n"
     ]
    },
    {
     "name": "stderr",
     "output_type": "stream",
     "text": [
      "C:\\Users\\bruno\\AppData\\Local\\Temp\\ipykernel_17432\\4094533272.py:38: FutureWarning: The behavior of DataFrame concatenation with empty or all-NA entries is deprecated. In a future version, this will no longer exclude empty or all-NA columns when determining the result dtypes. To retain the old behavior, exclude the relevant entries before the concat operation.\n",
      "  df_final = pd.concat(lista_df, ignore_index=True)\n"
     ]
    },
    {
     "name": "stdout",
     "output_type": "stream",
     "text": [
      "Arquivo final gerado: ./data/DOPI/DOPI_96_23_fedal.csv\n",
      "Total de linhas: 439777\n",
      "\n",
      "Processando estado: DOPR\n"
     ]
    },
    {
     "name": "stderr",
     "output_type": "stream",
     "text": [
      "C:\\Users\\bruno\\AppData\\Local\\Temp\\ipykernel_17432\\4094533272.py:38: FutureWarning: The behavior of DataFrame concatenation with empty or all-NA entries is deprecated. In a future version, this will no longer exclude empty or all-NA columns when determining the result dtypes. To retain the old behavior, exclude the relevant entries before the concat operation.\n",
      "  df_final = pd.concat(lista_df, ignore_index=True)\n"
     ]
    },
    {
     "name": "stdout",
     "output_type": "stream",
     "text": [
      "Arquivo final gerado: ./data/DOPR/DOPR_96_23_fedal.csv\n",
      "Total de linhas: 1812366\n",
      "\n",
      "Processando estado: DORJ\n"
     ]
    },
    {
     "name": "stderr",
     "output_type": "stream",
     "text": [
      "C:\\Users\\bruno\\AppData\\Local\\Temp\\ipykernel_17432\\4094533272.py:38: FutureWarning: The behavior of DataFrame concatenation with empty or all-NA entries is deprecated. In a future version, this will no longer exclude empty or all-NA columns when determining the result dtypes. To retain the old behavior, exclude the relevant entries before the concat operation.\n",
      "  df_final = pd.concat(lista_df, ignore_index=True)\n"
     ]
    },
    {
     "name": "stdout",
     "output_type": "stream",
     "text": [
      "Arquivo final gerado: ./data/DORJ/DORJ_96_23_fedal.csv\n",
      "Total de linhas: 3481198\n",
      "\n",
      "Processando estado: DORN\n"
     ]
    },
    {
     "name": "stderr",
     "output_type": "stream",
     "text": [
      "C:\\Users\\bruno\\AppData\\Local\\Temp\\ipykernel_17432\\4094533272.py:38: FutureWarning: The behavior of DataFrame concatenation with empty or all-NA entries is deprecated. In a future version, this will no longer exclude empty or all-NA columns when determining the result dtypes. To retain the old behavior, exclude the relevant entries before the concat operation.\n",
      "  df_final = pd.concat(lista_df, ignore_index=True)\n"
     ]
    },
    {
     "name": "stdout",
     "output_type": "stream",
     "text": [
      "Arquivo final gerado: ./data/DORN/DORN_96_23_fedal.csv\n",
      "Total de linhas: 471290\n",
      "\n",
      "Processando estado: DORO\n"
     ]
    },
    {
     "name": "stderr",
     "output_type": "stream",
     "text": [
      "C:\\Users\\bruno\\AppData\\Local\\Temp\\ipykernel_17432\\4094533272.py:38: FutureWarning: The behavior of DataFrame concatenation with empty or all-NA entries is deprecated. In a future version, this will no longer exclude empty or all-NA columns when determining the result dtypes. To retain the old behavior, exclude the relevant entries before the concat operation.\n",
      "  df_final = pd.concat(lista_df, ignore_index=True)\n"
     ]
    },
    {
     "name": "stdout",
     "output_type": "stream",
     "text": [
      "Arquivo final gerado: ./data/DORO/DORO_96_23_fedal.csv\n",
      "Total de linhas: 194858\n",
      "\n",
      "Processando estado: DORR\n"
     ]
    },
    {
     "name": "stderr",
     "output_type": "stream",
     "text": [
      "C:\\Users\\bruno\\AppData\\Local\\Temp\\ipykernel_17432\\4094533272.py:38: FutureWarning: The behavior of DataFrame concatenation with empty or all-NA entries is deprecated. In a future version, this will no longer exclude empty or all-NA columns when determining the result dtypes. To retain the old behavior, exclude the relevant entries before the concat operation.\n",
      "  df_final = pd.concat(lista_df, ignore_index=True)\n"
     ]
    },
    {
     "name": "stdout",
     "output_type": "stream",
     "text": [
      "Arquivo final gerado: ./data/DORR/DORR_96_23_fedal.csv\n",
      "Total de linhas: 51568\n",
      "\n",
      "Processando estado: DORS\n"
     ]
    },
    {
     "name": "stderr",
     "output_type": "stream",
     "text": [
      "C:\\Users\\bruno\\AppData\\Local\\Temp\\ipykernel_17432\\4094533272.py:38: FutureWarning: The behavior of DataFrame concatenation with empty or all-NA entries is deprecated. In a future version, this will no longer exclude empty or all-NA columns when determining the result dtypes. To retain the old behavior, exclude the relevant entries before the concat operation.\n",
      "  df_final = pd.concat(lista_df, ignore_index=True)\n"
     ]
    },
    {
     "name": "stdout",
     "output_type": "stream",
     "text": [
      "Arquivo final gerado: ./data/DORS/DORS_96_23_fedal.csv\n",
      "Total de linhas: 2150085\n",
      "\n",
      "Processando estado: DOSC\n"
     ]
    },
    {
     "name": "stderr",
     "output_type": "stream",
     "text": [
      "C:\\Users\\bruno\\AppData\\Local\\Temp\\ipykernel_17432\\4094533272.py:38: FutureWarning: The behavior of DataFrame concatenation with empty or all-NA entries is deprecated. In a future version, this will no longer exclude empty or all-NA columns when determining the result dtypes. To retain the old behavior, exclude the relevant entries before the concat operation.\n",
      "  df_final = pd.concat(lista_df, ignore_index=True)\n"
     ]
    },
    {
     "name": "stdout",
     "output_type": "stream",
     "text": [
      "Arquivo final gerado: ./data/DOSC/DOSC_96_23_fedal.csv\n",
      "Total de linhas: 964086\n",
      "\n",
      "Processando estado: DOSE\n"
     ]
    },
    {
     "name": "stderr",
     "output_type": "stream",
     "text": [
      "C:\\Users\\bruno\\AppData\\Local\\Temp\\ipykernel_17432\\4094533272.py:38: FutureWarning: The behavior of DataFrame concatenation with empty or all-NA entries is deprecated. In a future version, this will no longer exclude empty or all-NA columns when determining the result dtypes. To retain the old behavior, exclude the relevant entries before the concat operation.\n",
      "  df_final = pd.concat(lista_df, ignore_index=True)\n"
     ]
    },
    {
     "name": "stdout",
     "output_type": "stream",
     "text": [
      "Arquivo final gerado: ./data/DOSE/DOSE_96_23_fedal.csv\n",
      "Total de linhas: 309810\n",
      "\n",
      "Processando estado: DOSP\n"
     ]
    },
    {
     "name": "stderr",
     "output_type": "stream",
     "text": [
      "C:\\Users\\bruno\\AppData\\Local\\Temp\\ipykernel_17432\\4094533272.py:38: FutureWarning: The behavior of DataFrame concatenation with empty or all-NA entries is deprecated. In a future version, this will no longer exclude empty or all-NA columns when determining the result dtypes. To retain the old behavior, exclude the relevant entries before the concat operation.\n",
      "  df_final = pd.concat(lista_df, ignore_index=True)\n"
     ]
    },
    {
     "name": "stdout",
     "output_type": "stream",
     "text": [
      "Arquivo final gerado: ./data/DOSP/DOSP_96_23_fedal.csv\n",
      "Total de linhas: 7365313\n",
      "\n",
      "Processando estado: DOTO\n"
     ]
    },
    {
     "name": "stderr",
     "output_type": "stream",
     "text": [
      "C:\\Users\\bruno\\AppData\\Local\\Temp\\ipykernel_17432\\4094533272.py:38: FutureWarning: The behavior of DataFrame concatenation with empty or all-NA entries is deprecated. In a future version, this will no longer exclude empty or all-NA columns when determining the result dtypes. To retain the old behavior, exclude the relevant entries before the concat operation.\n",
      "  df_final = pd.concat(lista_df, ignore_index=True)\n"
     ]
    },
    {
     "name": "stdout",
     "output_type": "stream",
     "text": [
      "Arquivo final gerado: ./data/DOTO/DOTO_96_23_fedal.csv\n",
      "Total de linhas: 172733\n"
     ]
    }
   ],
   "source": [
    "# Percorre cada estado\n",
    "for uf in estados:\n",
    "    print(f\"\\nProcessando estado: {uf}\")\n",
    "    caminho_estado = os.path.join(caminho_base, uf).replace(\"\\\\\", \"/\")\n",
    "    \n",
    "    lista_df = []\n",
    "    id_atual = 1  # Reinicia ID para cada estado\n",
    "\n",
    "    for ano in anos:\n",
    "        nome_arquivo = f\"{uf}{ano}.csv\"\n",
    "        caminho_csv = os.path.join(caminho_estado, nome_arquivo).replace(\"\\\\\", \"/\")\n",
    "        \n",
    "        if os.path.exists(caminho_csv):\n",
    "            try:\n",
    "                df = pd.read_csv(caminho_csv, low_memory=False)\n",
    "\n",
    "                # Adiciona colunas ausentes com valores None\n",
    "                for col in colunas_desejadas:\n",
    "                    if col not in df.columns:\n",
    "                        df[col] = None\n",
    "\n",
    "                df_filtrado = df[colunas_desejadas].reset_index(drop=True)\n",
    "\n",
    "                # Cria id único dentro do estado\n",
    "                df_filtrado['id_i'] = range(id_atual, id_atual + len(df_filtrado))\n",
    "                id_atual += len(df_filtrado)\n",
    "\n",
    "                # Reorganiza colunas\n",
    "                df_filtrado = df_filtrado[['id_i'] + colunas_desejadas]\n",
    "\n",
    "                lista_df.append(df_filtrado)\n",
    "            except Exception as e:\n",
    "                print(f\"Erro ao processar o arquivo {nome_arquivo}: {e}\")\n",
    "        else:\n",
    "            print(f\"Aviso: Arquivo {nome_arquivo} não encontrado.\")\n",
    "\n",
    "    if lista_df:\n",
    "        df_final = pd.concat(lista_df, ignore_index=True)\n",
    "        caminho_saida = os.path.join(caminho_estado, f\"{uf}_96_23_identificacao.csv\").replace(\"\\\\\", \"/\")\n",
    "        df_final.to_csv(caminho_saida, index=False)\n",
    "        print(f\"Arquivo final gerado: {caminho_saida}\")\n",
    "        print(f\"Total de linhas: {len(df_final)}\")\n",
    "    else:\n",
    "        print(f\"Nenhum dado processado para o estado {uf}\")"
   ]
  }
 ],
 "metadata": {
  "kernelspec": {
   "display_name": ".venv",
   "language": "python",
   "name": "python3"
  },
  "language_info": {
   "codemirror_mode": {
    "name": "ipython",
    "version": 3
   },
   "file_extension": ".py",
   "mimetype": "text/x-python",
   "name": "python",
   "nbconvert_exporter": "python",
   "pygments_lexer": "ipython3",
   "version": "3.13.2"
  }
 },
 "nbformat": 4,
 "nbformat_minor": 5
}
